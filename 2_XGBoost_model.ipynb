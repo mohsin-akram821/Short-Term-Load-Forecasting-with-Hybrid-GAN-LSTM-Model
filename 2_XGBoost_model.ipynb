{
  "nbformat": 4,
  "nbformat_minor": 0,
  "metadata": {
    "colab": {
      "provenance": []
    },
    "kernelspec": {
      "name": "python3",
      "display_name": "Python 3"
    },
    "language_info": {
      "name": "python"
    }
  },
  "cells": [
    {
      "cell_type": "code",
      "execution_count": 26,
      "metadata": {
        "colab": {
          "base_uri": "https://localhost:8080/"
        },
        "id": "vY8nA4GVojbY",
        "outputId": "660c4288-4a4e-4319-ccb4-fd6e4d2ecaec"
      },
      "outputs": [
        {
          "output_type": "execute_result",
          "data": {
            "text/plain": [
              "0        60160.152\n",
              "1        58550.010\n",
              "2        27063.855\n",
              "3        51948.730\n",
              "4        32287.680\n",
              "           ...    \n",
              "39995    43678.305\n",
              "39996    41472.008\n",
              "39997    56719.125\n",
              "39998    51406.290\n",
              "39999    61710.120\n",
              "Name: Load, Length: 40000, dtype: float64"
            ]
          },
          "metadata": {},
          "execution_count": 26
        }
      ],
      "source": [
        "import pandas as pd\n",
        "import numpy as np\n",
        "from sklearn.model_selection import train_test_split\n",
        "from sklearn.metrics import mean_squared_error, r2_score\n",
        "from sklearn.preprocessing import StandardScaler\n",
        "import xgboost as xgb\n",
        "\n",
        "# Load the dataset\n",
        "df = pd.read_csv('/content/final_generated_data.csv')\n",
        "\n",
        "# Define the feature columns and the target column\n",
        "feature_columns = [\n",
        "    'Temperature', 'Humidity', 'ALLSKY_SFC_UVB', 'ALLSKY_SFC_UV_INDEX',\n",
        "    'ALLSKY_SFC_UVA', 'QV2M', 'RH2M', 'PRECTOTCORR', 'WS10M',\n",
        "    'year', 'month', 'day', 'hour', 'weekday', 'Inflation'\n",
        "]\n",
        "target_column = 'Load'\n",
        "\n",
        "# Split the dataset into features and target variable\n",
        "X = df[feature_columns]\n",
        "y = df[target_column]\n",
        "\n",
        "y"
      ]
    },
    {
      "cell_type": "code",
      "source": [
        "\n",
        "# Split the dataset into training and testing sets\n",
        "X_train, X_test, y_train, y_test = train_test_split(X, y, test_size=0.2, random_state=42)\n",
        "\n",
        "# Scale the features\n",
        "scaler = StandardScaler()\n",
        "X_train_scaled = scaler.fit_transform(X_train)\n",
        "X_test_scaled = scaler.transform(X_test)\n",
        "X_test_scaled\n",
        "X_train_scaled"
      ],
      "metadata": {
        "colab": {
          "base_uri": "https://localhost:8080/"
        },
        "id": "4v5utZuOpiwX",
        "outputId": "13007f37-9ca8-417b-d4c0-3a431c57c8a6"
      },
      "execution_count": 27,
      "outputs": [
        {
          "output_type": "execute_result",
          "data": {
            "text/plain": [
              "array([[ 1.37782945,  0.48435447,  2.42928589, ..., -0.31136354,\n",
              "         0.8027278 , -1.04508695],\n",
              "       [-1.0815409 ,  0.86067767, -0.45603798, ...,  1.72793843,\n",
              "         1.7078659 ,  0.97703842],\n",
              "       [ 3.02503506,  1.09230164,  3.00028676, ..., -0.08653756,\n",
              "         1.3468266 , -1.04508695],\n",
              "       ...,\n",
              "       [-0.40847741,  0.96776605, -0.42535777, ...,  1.32958118,\n",
              "         1.6918199 , -1.04508695],\n",
              "       [-0.81888263,  0.92645479, -0.41883037, ..., -1.46007391,\n",
              "        -0.42098033, -1.04508695],\n",
              "       [-0.19304393, -0.51262968,  0.09229959, ...,  0.83235129,\n",
              "         0.68402578, -1.04508695]])"
            ]
          },
          "metadata": {},
          "execution_count": 27
        }
      ]
    },
    {
      "cell_type": "code",
      "source": [
        "\n",
        "# Initialize the XGBoost model\n",
        "xg_reg = xgb.XGBRegressor(objective='reg:squarederror', colsample_bytree=0.3, learning_rate=0.1, max_depth=5, alpha=10, n_estimators=100)\n",
        "\n",
        "# Train the model\n",
        "xg_reg.fit(X_train_scaled, y_train)\n",
        "\n",
        "# Make predictions\n",
        "y_pred = xg_reg.predict(X_test_scaled)\n",
        "y_pred\n"
      ],
      "metadata": {
        "colab": {
          "base_uri": "https://localhost:8080/"
        },
        "id": "Tg5RiPoNpz3_",
        "outputId": "071b7ccd-fb8e-4f63-b8a7-45ad90b7d31b"
      },
      "execution_count": 28,
      "outputs": [
        {
          "output_type": "execute_result",
          "data": {
            "text/plain": [
              "array([36073.566, 50716.87 , 44517.297, ..., 31648.36 , 60424.88 ,\n",
              "       43254.43 ], dtype=float32)"
            ]
          },
          "metadata": {},
          "execution_count": 28
        }
      ]
    },
    {
      "cell_type": "code",
      "source": [
        "# Evaluate the model\n",
        "r2_xgb = r2_score(y_test, y_pred)\n",
        "rmse_xgb = mean_squared_error(y_test, y_pred, squared=False)\n",
        "\n",
        "# Print the results\n",
        "print(f'XGBoost - R²: {r2_xgb}, RMSE: {rmse_xgb}')"
      ],
      "metadata": {
        "colab": {
          "base_uri": "https://localhost:8080/"
        },
        "id": "-ErcLvyxp8sP",
        "outputId": "f2fd222f-0ef9-4cd8-80fa-300bd890109a"
      },
      "execution_count": 29,
      "outputs": [
        {
          "output_type": "stream",
          "name": "stdout",
          "text": [
            "XGBoost - R²: 0.9289944224282263, RMSE: 3774.1708079804444\n"
          ]
        }
      ]
    },
    {
      "cell_type": "markdown",
      "source": [],
      "metadata": {
        "id": "zuC9AV1XqdZA"
      }
    }
  ]
}