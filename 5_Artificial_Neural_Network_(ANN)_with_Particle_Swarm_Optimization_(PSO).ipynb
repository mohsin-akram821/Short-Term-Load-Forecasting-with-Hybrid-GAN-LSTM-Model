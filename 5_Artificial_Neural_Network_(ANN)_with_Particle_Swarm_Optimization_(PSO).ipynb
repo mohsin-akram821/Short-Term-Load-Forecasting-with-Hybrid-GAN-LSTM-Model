{
  "nbformat": 4,
  "nbformat_minor": 0,
  "metadata": {
    "colab": {
      "provenance": []
    },
    "kernelspec": {
      "name": "python3",
      "display_name": "Python 3"
    },
    "language_info": {
      "name": "python"
    }
  },
  "cells": [
    {
      "cell_type": "code",
      "execution_count": 55,
      "metadata": {
        "id": "vY8nA4GVojbY"
      },
      "outputs": [],
      "source": [
        "import pandas as pd\n",
        "import numpy as np\n",
        "from sklearn.model_selection import train_test_split\n",
        "from sklearn.preprocessing import MinMaxScaler\n",
        "from sklearn.neural_network import MLPRegressor\n",
        "from sklearn.metrics import mean_squared_error, r2_score\n",
        "\n",
        "# Load your data\n",
        "data = pd.read_csv('/content/final_generated_data.csv')\n",
        "\n",
        "# Define the features and target variable\n",
        "features = ['Temperature', 'Humidity', 'ALLSKY_SFC_UVB', 'ALLSKY_SFC_UV_INDEX', 'ALLSKY_SFC_UVA',\n",
        "            'QV2M', 'RH2M', 'PRECTOTCORR', 'WS10M', 'year', 'month', 'day', 'hour', 'weekday', 'Inflation']\n",
        "target = 'Load'\n"
      ]
    },
    {
      "cell_type": "code",
      "source": [
        "\n",
        "# Initialize the scaler for features\n",
        "scaler = MinMaxScaler()\n",
        "scaled_data = scaler.fit_transform(data[features])\n",
        "scaled_data"
      ],
      "metadata": {
        "colab": {
          "base_uri": "https://localhost:8080/"
        },
        "id": "4v5utZuOpiwX",
        "outputId": "15df9335-1b4d-48a7-f1aa-d0261eb50c5d"
      },
      "execution_count": 57,
      "outputs": [
        {
          "output_type": "execute_result",
          "data": {
            "text/plain": [
              "array([[0.30862126, 0.80084211, 0.34544254, ..., 0.56557943, 0.69926422,\n",
              "        0.99455183],\n",
              "       [0.24814725, 0.7046667 , 0.0552311 , ..., 0.58286217, 0.96087521,\n",
              "        0.99286375],\n",
              "       [0.28695336, 0.95700812, 0.13330878, ..., 0.07066197, 0.62179829,\n",
              "        0.99744067],\n",
              "       ...,\n",
              "       [0.68230535, 0.68214733, 0.60161543, ..., 0.55611048, 0.23590334,\n",
              "        0.99802298],\n",
              "       [0.39667995, 0.67158868, 0.46392735, ..., 0.52751575, 0.26082919,\n",
              "        0.        ],\n",
              "       [0.60852278, 0.81076644, 0.74964264, ..., 0.54457186, 0.32938035,\n",
              "        0.99485173]])"
            ]
          },
          "metadata": {},
          "execution_count": 57
        }
      ]
    },
    {
      "cell_type": "code",
      "source": [
        "\n",
        "# Initialize the scaler for target variable (Load)\n",
        "target_scaler = MinMaxScaler()\n",
        "scaled_target = target_scaler.fit_transform(data[[target]])\n",
        "scaled_target\n"
      ],
      "metadata": {
        "colab": {
          "base_uri": "https://localhost:8080/"
        },
        "id": "Tg5RiPoNpz3_",
        "outputId": "6018a461-cf5c-4caa-c3cd-e9c5f4575c0a"
      },
      "execution_count": 58,
      "outputs": [
        {
          "output_type": "execute_result",
          "data": {
            "text/plain": [
              "array([[0.74610131],\n",
              "       [0.71835752],\n",
              "       [0.17583076],\n",
              "       ...,\n",
              "       [0.68681019],\n",
              "       [0.59526662],\n",
              "       [0.77280826]])"
            ]
          },
          "metadata": {},
          "execution_count": 58
        }
      ]
    },
    {
      "cell_type": "code",
      "source": [
        "# Split the data into features (X) and target variable (y)\n",
        "X = scaled_data\n",
        "y = scaled_target\n",
        "\n",
        "# Split the data into training and testing sets\n",
        "X_train, X_test, y_train, y_test = train_test_split(X, y, test_size=0.2, shuffle=False)\n",
        "\n"
      ],
      "metadata": {
        "id": "-ErcLvyxp8sP"
      },
      "execution_count": 59,
      "outputs": []
    },
    {
      "cell_type": "code",
      "source": [
        "X_train, X_test, y_train, y_test\n",
        "# ANN-PSO Model\n",
        "ann_pso_model = MLPRegressor(hidden_layer_sizes=(100,), activation='relu', solver='lbfgs',\n",
        "                             max_iter=1000, random_state=0)\n",
        "ann_pso_model.fit(X_train, y_train.ravel())\n",
        "y_pred_ann_pso = ann_pso_model.predict(X_test)\n",
        "\n",
        "# Inverse transform predictions and actual values\n",
        "y_pred_inv_ann_pso = target_scaler.inverse_transform(y_pred_ann_pso.reshape(-1, 1)).flatten()\n",
        "y_test_inv = target_scaler.inverse_transform(y_test.reshape(-1, 1)).flatten()\n",
        "y_pred_inv_ann_pso,y_test_inv\n"
      ],
      "metadata": {
        "colab": {
          "base_uri": "https://localhost:8080/"
        },
        "id": "-b0MribitEwM",
        "outputId": "dfb799f9-97c1-42a3-ebe0-48e286a1d67a"
      },
      "execution_count": 60,
      "outputs": [
        {
          "output_type": "execute_result",
          "data": {
            "text/plain": [
              "(array([30277.13882835, 58454.24997377, 43682.02808657, ...,\n",
              "        55038.93920767, 59418.26747506, 60982.43645478]),\n",
              " array([28538.068, 57533.047, 39124.484, ..., 56719.125, 51406.29 ,\n",
              "        61710.12 ]))"
            ]
          },
          "metadata": {},
          "execution_count": 60
        }
      ]
    },
    {
      "cell_type": "code",
      "source": [
        "# Calculate metrics\n",
        "rmse_ann_pso = np.sqrt(mean_squared_error(y_test_inv, y_pred_inv_ann_pso))\n",
        "r2_ann_pso = r2_score(y_test_inv, y_pred_inv_ann_pso)\n",
        "print(f'ANN-PSO Model - RMSE: {rmse_ann_pso}, R²: {r2_ann_pso}')"
      ],
      "metadata": {
        "colab": {
          "base_uri": "https://localhost:8080/"
        },
        "id": "e97s6ZsPtG5o",
        "outputId": "f44dbcf8-5516-4b96-f99a-218bd1056df2"
      },
      "execution_count": 61,
      "outputs": [
        {
          "output_type": "stream",
          "name": "stdout",
          "text": [
            "ANN-PSO Model - RMSE: 2914.138764209006, R²: 0.9572982999149819\n"
          ]
        }
      ]
    },
    {
      "cell_type": "markdown",
      "source": [],
      "metadata": {
        "id": "zuC9AV1XqdZA"
      }
    }
  ]
}