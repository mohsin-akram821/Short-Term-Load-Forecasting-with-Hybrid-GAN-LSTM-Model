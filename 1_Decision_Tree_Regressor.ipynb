{
  "nbformat": 4,
  "nbformat_minor": 0,
  "metadata": {
    "colab": {
      "provenance": []
    },
    "kernelspec": {
      "name": "python3",
      "display_name": "Python 3"
    },
    "language_info": {
      "name": "python"
    }
  },
  "cells": [
    {
      "cell_type": "code",
      "execution_count": 7,
      "metadata": {
        "id": "vY8nA4GVojbY"
      },
      "outputs": [],
      "source": [
        "import pandas as pd\n",
        "import numpy as np\n",
        "from sklearn.model_selection import train_test_split\n",
        "from sklearn.preprocessing import MinMaxScaler\n",
        "from sklearn.tree import DecisionTreeRegressor\n",
        "from sklearn.metrics import mean_squared_error, r2_score\n",
        "\n",
        "# Load your data\n",
        "data = pd.read_csv('/content/final_generated_data.csv')\n",
        "\n",
        "# Define the features and target variable\n",
        "features = ['Temperature', 'Humidity', 'ALLSKY_SFC_UVB', 'ALLSKY_SFC_UV_INDEX', 'ALLSKY_SFC_UVA',\n",
        "            'QV2M', 'RH2M', 'PRECTOTCORR', 'WS10M', 'year', 'month', 'day', 'hour', 'weekday', 'Inflation']\n",
        "target = 'Load'\n",
        "\n",
        "\n"
      ]
    },
    {
      "cell_type": "code",
      "source": [
        "# Initialize the scaler for features\n",
        "scaler = MinMaxScaler()\n",
        "scaled_data = scaler.fit_transform(data[features])\n",
        "\n",
        "# Initialize the scaler for target variable (Load)\n",
        "target_scaler = MinMaxScaler()\n",
        "scaled_target = target_scaler.fit_transform(data[[target]])\n",
        "\n",
        "# Split the data into features (X) and target variable (y)\n",
        "X = scaled_data\n",
        "y = scaled_target\n"
      ],
      "metadata": {
        "id": "4v5utZuOpiwX"
      },
      "execution_count": 8,
      "outputs": []
    },
    {
      "cell_type": "code",
      "source": [
        "\n",
        "# Split the data into training and testing sets\n",
        "X_train, X_test, y_train, y_test = train_test_split(X, y, test_size=0.2, shuffle=False)\n",
        "\n",
        "# Decision Tree Model\n",
        "dt_model = DecisionTreeRegressor(random_state=0)\n",
        "dt_model.fit(X_train, y_train)\n",
        "y_pred_dt = dt_model.predict(X_test)\n",
        "\n",
        "# Inverse transform predictions and actual values\n",
        "y_pred_inv_dt = target_scaler.inverse_transform(y_pred_dt.reshape(-1, 1)).flatten()\n",
        "y_test_inv = target_scaler.inverse_transform(y_test.reshape(-1, 1)).flatten()\n",
        "\n"
      ],
      "metadata": {
        "id": "Tg5RiPoNpz3_"
      },
      "execution_count": 9,
      "outputs": []
    },
    {
      "cell_type": "code",
      "source": [
        "y_test_inv,y_pred_inv_dt"
      ],
      "metadata": {
        "colab": {
          "base_uri": "https://localhost:8080/"
        },
        "id": "-ErcLvyxp8sP",
        "outputId": "e8e00a13-c33a-48cb-b792-4c0ce08271cb"
      },
      "execution_count": 10,
      "outputs": [
        {
          "output_type": "execute_result",
          "data": {
            "text/plain": [
              "(array([28538.068, 57533.047, 39124.484, ..., 56719.125, 51406.29 ,\n",
              "        61710.12 ]),\n",
              " array([27906.34 , 55904.06 , 46168.977, ..., 62892.473, 48705.59 ,\n",
              "        61152.36 ]))"
            ]
          },
          "metadata": {},
          "execution_count": 10
        }
      ]
    },
    {
      "cell_type": "code",
      "source": [
        "# Calculate metrics\n",
        "rmse_dt = np.sqrt(mean_squared_error(y_test_inv, y_pred_inv_dt))\n",
        "r2_dt = r2_score(y_test_inv, y_pred_inv_dt)\n",
        "print(f'Decision Tree Model - RMSE: {rmse_dt}, R²: {r2_dt}')"
      ],
      "metadata": {
        "colab": {
          "base_uri": "https://localhost:8080/"
        },
        "id": "3VKp9fHTp6e2",
        "outputId": "293d4f56-164c-43a6-a67e-dec3547e2aaf"
      },
      "execution_count": 11,
      "outputs": [
        {
          "output_type": "stream",
          "name": "stdout",
          "text": [
            "Decision Tree Model - RMSE: 5211.480013280259, R²: 0.8634326560453285\n"
          ]
        }
      ]
    },
    {
      "cell_type": "markdown",
      "source": [],
      "metadata": {
        "id": "zuC9AV1XqdZA"
      }
    }
  ]
}