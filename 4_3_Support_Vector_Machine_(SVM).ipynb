{
  "nbformat": 4,
  "nbformat_minor": 0,
  "metadata": {
    "colab": {
      "provenance": []
    },
    "kernelspec": {
      "name": "python3",
      "display_name": "Python 3"
    },
    "language_info": {
      "name": "python"
    }
  },
  "cells": [
    {
      "cell_type": "code",
      "execution_count": 42,
      "metadata": {
        "id": "vY8nA4GVojbY"
      },
      "outputs": [],
      "source": [
        "import pandas as pd\n",
        "import numpy as np\n",
        "from sklearn.model_selection import train_test_split\n",
        "from sklearn.preprocessing import MinMaxScaler\n",
        "from sklearn.svm import SVR\n",
        "from sklearn.metrics import mean_squared_error, r2_score\n",
        "\n",
        "# Load your data\n",
        "data = pd.read_csv('/content/final_generated_data.csv')\n",
        "\n",
        "# Define the features and target variable\n",
        "features = ['Temperature', 'Humidity', 'ALLSKY_SFC_UVB', 'ALLSKY_SFC_UV_INDEX', 'ALLSKY_SFC_UVA',\n",
        "            'QV2M', 'RH2M', 'PRECTOTCORR', 'WS10M', 'year', 'month', 'day', 'hour', 'weekday', 'Inflation']\n",
        "target = 'Load'\n",
        "\n"
      ]
    },
    {
      "cell_type": "code",
      "source": [
        "\n",
        "# Initialize the scaler for features\n",
        "scaler = MinMaxScaler()\n",
        "scaled_data = scaler.fit_transform(data[features])\n",
        "scaled_data"
      ],
      "metadata": {
        "colab": {
          "base_uri": "https://localhost:8080/"
        },
        "id": "4v5utZuOpiwX",
        "outputId": "0fc099bc-ebd5-458b-b604-45c92748a122"
      },
      "execution_count": 44,
      "outputs": [
        {
          "output_type": "execute_result",
          "data": {
            "text/plain": [
              "array([[0.30862126, 0.80084211, 0.34544254, ..., 0.56557943, 0.69926422,\n",
              "        0.99455183],\n",
              "       [0.24814725, 0.7046667 , 0.0552311 , ..., 0.58286217, 0.96087521,\n",
              "        0.99286375],\n",
              "       [0.28695336, 0.95700812, 0.13330878, ..., 0.07066197, 0.62179829,\n",
              "        0.99744067],\n",
              "       ...,\n",
              "       [0.68230535, 0.68214733, 0.60161543, ..., 0.55611048, 0.23590334,\n",
              "        0.99802298],\n",
              "       [0.39667995, 0.67158868, 0.46392735, ..., 0.52751575, 0.26082919,\n",
              "        0.        ],\n",
              "       [0.60852278, 0.81076644, 0.74964264, ..., 0.54457186, 0.32938035,\n",
              "        0.99485173]])"
            ]
          },
          "metadata": {},
          "execution_count": 44
        }
      ]
    },
    {
      "cell_type": "code",
      "source": [
        "\n",
        "# Initialize the scaler for target variable (Load)\n",
        "target_scaler = MinMaxScaler()\n",
        "scaled_target = target_scaler.fit_transform(data[[target]])\n",
        "scaled_target"
      ],
      "metadata": {
        "colab": {
          "base_uri": "https://localhost:8080/"
        },
        "id": "Tg5RiPoNpz3_",
        "outputId": "4297f6e3-8cb8-42c7-9c29-22ab306446fa"
      },
      "execution_count": 46,
      "outputs": [
        {
          "output_type": "execute_result",
          "data": {
            "text/plain": [
              "array([[0.74610131],\n",
              "       [0.71835752],\n",
              "       [0.17583076],\n",
              "       ...,\n",
              "       [0.68681019],\n",
              "       [0.59526662],\n",
              "       [0.77280826]])"
            ]
          },
          "metadata": {},
          "execution_count": 46
        }
      ]
    },
    {
      "cell_type": "code",
      "source": [
        "\n",
        "# Split the data into features (X) and target variable (y)\n",
        "X = scaled_data\n",
        "y = scaled_target\n",
        "\n",
        "# Split the data into training and testing sets\n",
        "X_train, X_test, y_train, y_test = train_test_split(X, y, test_size=0.2, shuffle=False)\n"
      ],
      "metadata": {
        "id": "-ErcLvyxp8sP"
      },
      "execution_count": 47,
      "outputs": []
    },
    {
      "cell_type": "code",
      "source": [
        "\n",
        "# SVM Model\n",
        "svm_model = SVR(kernel='rbf')\n",
        "svm_model.fit(X_train, y_train.ravel())\n",
        "y_pred_svm = svm_model.predict(X_test)\n"
      ],
      "metadata": {
        "id": "-b0MribitEwM"
      },
      "execution_count": 48,
      "outputs": []
    },
    {
      "cell_type": "code",
      "source": [
        "\n",
        "# Inverse transform predictions and actual values\n",
        "y_pred_inv_svm = target_scaler.inverse_transform(y_pred_svm.reshape(-1, 1)).flatten()\n",
        "y_test_inv = target_scaler.inverse_transform(y_test.reshape(-1, 1)).flatten()\n",
        "\n",
        "y_pred_inv_svm,y_test_inv"
      ],
      "metadata": {
        "colab": {
          "base_uri": "https://localhost:8080/"
        },
        "id": "e97s6ZsPtG5o",
        "outputId": "0c5a5183-53f5-4d63-8fb8-8622d9975f4e"
      },
      "execution_count": 52,
      "outputs": [
        {
          "output_type": "execute_result",
          "data": {
            "text/plain": [
              "(array([31038.32623297, 58648.82832859, 42997.52941424, ...,\n",
              "        56154.30542621, 56510.25004161, 61521.88646651]),\n",
              " array([28538.068, 57533.047, 39124.484, ..., 56719.125, 51406.29 ,\n",
              "        61710.12 ]))"
            ]
          },
          "metadata": {},
          "execution_count": 52
        }
      ]
    },
    {
      "cell_type": "code",
      "source": [
        "\n",
        "# Calculate metrics\n",
        "rmse_svm = np.sqrt(mean_squared_error(y_test_inv, y_pred_inv_svm))\n",
        "r2_svm = r2_score(y_test_inv, y_pred_inv_svm)\n",
        "print(f'SVM Model - RMSE: {rmse_svm}, R²: {r2_svm}')"
      ],
      "metadata": {
        "colab": {
          "base_uri": "https://localhost:8080/"
        },
        "id": "yGaTgWH1tIvn",
        "outputId": "bfe1570e-c9e0-4c5d-8116-6446de81a7fd"
      },
      "execution_count": 53,
      "outputs": [
        {
          "output_type": "stream",
          "name": "stdout",
          "text": [
            "SVM Model - RMSE: 3207.657452828967, R²: 0.948263067320893\n"
          ]
        }
      ]
    },
    {
      "cell_type": "markdown",
      "source": [],
      "metadata": {
        "id": "zuC9AV1XqdZA"
      }
    }
  ]
}