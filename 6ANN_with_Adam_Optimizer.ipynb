{
  "nbformat": 4,
  "nbformat_minor": 0,
  "metadata": {
    "colab": {
      "provenance": []
    },
    "kernelspec": {
      "name": "python3",
      "display_name": "Python 3"
    },
    "language_info": {
      "name": "python"
    }
  },
  "cells": [
    {
      "cell_type": "code",
      "execution_count": 73,
      "metadata": {
        "id": "vY8nA4GVojbY"
      },
      "outputs": [],
      "source": [
        "import pandas as pd\n",
        "import numpy as np\n",
        "from sklearn.model_selection import train_test_split\n",
        "from sklearn.preprocessing import MinMaxScaler\n",
        "from sklearn.neural_network import MLPRegressor\n",
        "from sklearn.metrics import mean_squared_error, r2_score\n",
        "\n",
        "# Load your data\n",
        "data = pd.read_csv('/content/final_generated_data.csv')\n",
        "\n",
        "# Define the features and target variable\n",
        "features = ['Temperature', 'Humidity', 'ALLSKY_SFC_UVB', 'ALLSKY_SFC_UV_INDEX', 'ALLSKY_SFC_UVA',\n",
        "            'QV2M', 'RH2M', 'PRECTOTCORR', 'WS10M', 'year', 'month', 'day', 'hour', 'weekday', 'Inflation']\n",
        "target = 'Load'\n",
        "\n"
      ]
    },
    {
      "cell_type": "code",
      "source": [
        "# Initialize the scaler for features\n",
        "scaler = MinMaxScaler()\n",
        "scaled_data = scaler.fit_transform(data[features])\n",
        "scaled_data"
      ],
      "metadata": {
        "colab": {
          "base_uri": "https://localhost:8080/"
        },
        "id": "4v5utZuOpiwX",
        "outputId": "fb6c4cb9-83b0-47ae-d572-335506e2cf9a"
      },
      "execution_count": 74,
      "outputs": [
        {
          "output_type": "execute_result",
          "data": {
            "text/plain": [
              "array([[0.30862126, 0.80084211, 0.34544254, ..., 0.56557943, 0.69926422,\n",
              "        0.99455183],\n",
              "       [0.24814725, 0.7046667 , 0.0552311 , ..., 0.58286217, 0.96087521,\n",
              "        0.99286375],\n",
              "       [0.28695336, 0.95700812, 0.13330878, ..., 0.07066197, 0.62179829,\n",
              "        0.99744067],\n",
              "       ...,\n",
              "       [0.68230535, 0.68214733, 0.60161543, ..., 0.55611048, 0.23590334,\n",
              "        0.99802298],\n",
              "       [0.39667995, 0.67158868, 0.46392735, ..., 0.52751575, 0.26082919,\n",
              "        0.        ],\n",
              "       [0.60852278, 0.81076644, 0.74964264, ..., 0.54457186, 0.32938035,\n",
              "        0.99485173]])"
            ]
          },
          "metadata": {},
          "execution_count": 74
        }
      ]
    },
    {
      "cell_type": "code",
      "source": [
        "\n",
        "# Initialize the scaler for target variable (Load)\n",
        "target_scaler = MinMaxScaler()\n",
        "scaled_target = target_scaler.fit_transform(data[[target]])\n",
        "\n",
        "# Split the data into features (X) and target variable (y)\n",
        "X = scaled_data\n",
        "y = scaled_target\n"
      ],
      "metadata": {
        "id": "Tg5RiPoNpz3_"
      },
      "execution_count": 75,
      "outputs": []
    },
    {
      "cell_type": "code",
      "source": [
        "\n",
        "# Split the data into training and testing sets\n",
        "X_train, X_test, y_train, y_test = train_test_split(X, y, test_size=0.2, shuffle=False)\n",
        "X_train, X_test, y_train, y_test\n"
      ],
      "metadata": {
        "colab": {
          "base_uri": "https://localhost:8080/"
        },
        "id": "-ErcLvyxp8sP",
        "outputId": "62839ef0-71a7-45a5-a7cf-d5b4eab9b261"
      },
      "execution_count": 76,
      "outputs": [
        {
          "output_type": "execute_result",
          "data": {
            "text/plain": [
              "(array([[0.30862126, 0.80084211, 0.34544254, ..., 0.56557943, 0.69926422,\n",
              "         0.99455183],\n",
              "        [0.24814725, 0.7046667 , 0.0552311 , ..., 0.58286217, 0.96087521,\n",
              "         0.99286375],\n",
              "        [0.28695336, 0.95700812, 0.13330878, ..., 0.07066197, 0.62179829,\n",
              "         0.99744067],\n",
              "        ...,\n",
              "        [0.38640222, 0.86757635, 0.24625938, ..., 0.53165611, 0.02676503,\n",
              "         0.        ],\n",
              "        [0.23578813, 0.97845467, 0.13904114, ..., 0.76738801, 0.98335728,\n",
              "         0.        ],\n",
              "        [0.3265234 , 0.95852083, 0.14218767, ..., 0.44731694, 0.4365725 ,\n",
              "         0.        ]]),\n",
              " array([[0.29038996, 0.968414  , 0.14379723, ..., 0.42098841, 0.94655761,\n",
              "         0.        ],\n",
              "        [0.18249151, 0.7175644 , 0.00505091, ..., 0.45927141, 0.21177542,\n",
              "         0.99867058],\n",
              "        [0.23892258, 0.8796117 , 0.13001646, ..., 0.92299108, 0.60995916,\n",
              "         0.99760404],\n",
              "        ...,\n",
              "        [0.68230535, 0.68214733, 0.60161543, ..., 0.55611048, 0.23590334,\n",
              "         0.99802298],\n",
              "        [0.39667995, 0.67158868, 0.46392735, ..., 0.52751575, 0.26082919,\n",
              "         0.        ],\n",
              "        [0.60852278, 0.81076644, 0.74964264, ..., 0.54457186, 0.32938035,\n",
              "         0.99485173]]),\n",
              " array([[0.74610131],\n",
              "        [0.71835752],\n",
              "        [0.17583076],\n",
              "        ...,\n",
              "        [0.78026068],\n",
              "        [0.14012493],\n",
              "        [0.24544429]]),\n",
              " array([[0.2012324 ],\n",
              "        [0.70083459],\n",
              "        [0.38364318],\n",
              "        ...,\n",
              "        [0.68681019],\n",
              "        [0.59526662],\n",
              "        [0.77280826]]))"
            ]
          },
          "metadata": {},
          "execution_count": 76
        }
      ]
    },
    {
      "cell_type": "code",
      "source": [
        "# ANN-Adam Model\n",
        "ann_adam_model = MLPRegressor(hidden_layer_sizes=(150,), activation='relu', solver='adam',\n",
        "                              max_iter=2000, random_state=0)\n",
        "ann_adam_model.fit(X_train, y_train.ravel())\n",
        "y_pred_ann_adam = ann_adam_model.predict(X_test)\n",
        "\n"
      ],
      "metadata": {
        "id": "-b0MribitEwM"
      },
      "execution_count": 77,
      "outputs": []
    },
    {
      "cell_type": "code",
      "source": [
        "\n",
        "# Inverse transform predictions and actual values\n",
        "y_pred_inv_ann_adam = target_scaler.inverse_transform(y_pred_ann_adam.reshape(-1, 1)).flatten()\n",
        "y_test_inv = target_scaler.inverse_transform(y_test.reshape(-1, 1)).flatten()\n",
        "y_pred_inv_ann_adam,y_test_inv\n"
      ],
      "metadata": {
        "colab": {
          "base_uri": "https://localhost:8080/"
        },
        "id": "e97s6ZsPtG5o",
        "outputId": "435fee1f-855e-4d8f-9395-c257ec9ddef9"
      },
      "execution_count": 78,
      "outputs": [
        {
          "output_type": "execute_result",
          "data": {
            "text/plain": [
              "(array([32492.34139929, 60674.89642993, 43044.58137145, ...,\n",
              "        59752.30040163, 57852.06707563, 64455.5200832 ]),\n",
              " array([28538.068, 57533.047, 39124.484, ..., 56719.125, 51406.29 ,\n",
              "        61710.12 ]))"
            ]
          },
          "metadata": {},
          "execution_count": 78
        }
      ]
    },
    {
      "cell_type": "code",
      "source": [
        "# Calculate metrics\n",
        "rmse_ann_adam = np.sqrt(mean_squared_error(y_test_inv, y_pred_inv_ann_adam))\n",
        "r2_ann_adam = r2_score(y_test_inv, y_pred_inv_ann_adam)\n",
        "print(f'ANN-Adam Model - RMSE: {rmse_ann_adam}, R²: {r2_ann_adam}')"
      ],
      "metadata": {
        "colab": {
          "base_uri": "https://localhost:8080/"
        },
        "id": "xSDzBAzbum1o",
        "outputId": "752b3fa1-a27f-4251-d67c-475aa1362005"
      },
      "execution_count": 79,
      "outputs": [
        {
          "output_type": "stream",
          "name": "stdout",
          "text": [
            "ANN-Adam Model - RMSE: 3561.048144075809, R²: 0.9362352883005485\n"
          ]
        }
      ]
    },
    {
      "cell_type": "markdown",
      "source": [],
      "metadata": {
        "id": "zuC9AV1XqdZA"
      }
    }
  ]
}